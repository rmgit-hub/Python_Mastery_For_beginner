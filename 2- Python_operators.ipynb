{
  "nbformat": 4,
  "nbformat_minor": 0,
  "metadata": {
    "colab": {
      "provenance": [],
      "collapsed_sections": [
        "AyI4Ad3fYdy2",
        "1XiuICZhZpXk"
      ]
    },
    "kernelspec": {
      "name": "python3",
      "display_name": "Python 3"
    },
    "language_info": {
      "name": "python"
    }
  },
  "cells": [
    {
      "cell_type": "markdown",
      "source": [
        "# Python Operators"
      ],
      "metadata": {
        "id": "OgbCXU7-Z4mv"
      }
    },
    {
      "cell_type": "markdown",
      "source": [
        "# Arithmatic Operators"
      ],
      "metadata": {
        "id": "AyI4Ad3fYdy2"
      }
    },
    {
      "cell_type": "markdown",
      "source": [
        "You are familiar with operators like `+` and `-` in math. There are other important arithmetic operators, such as `/` (division), `//` (integer division), `%` (remainder), `*` (multiplication), and `**` (exponentiation)."
      ],
      "metadata": {
        "id": "UkwTsMVFXW3Y"
      }
    },
    {
      "cell_type": "code",
      "source": [
        "# Arithmetic Operators\n",
        "a = 5\n",
        "b = 3\n",
        "\n",
        "# Performing arithmetic operations\n",
        "addition = a + b\n",
        "subtraction = a - b\n",
        "multiplication = a * b\n",
        "division = a / b\n",
        "floor_division = a // b\n",
        "modulus = a % b\n",
        "exponentiation = a ** b\n",
        "\n",
        "# Printing the results\n",
        "print(\"Addition:\", addition)             # 8\n",
        "print(\"Subtraction:\", subtraction)       # 2\n",
        "print(\"Multiplication:\", multiplication) # 15\n",
        "print(\"Division:\", division)             # 1.666...\n",
        "print(\"Floor Division:\", floor_division) # 1\n",
        "print(\"Modulus:\", modulus)               # 2\n",
        "print(\"Exponentiation:\", exponentiation) # 125"
      ],
      "metadata": {
        "colab": {
          "base_uri": "https://localhost:8080/"
        },
        "id": "3bhsrWsZYnzl",
        "outputId": "73ca83a4-d227-46c0-e13b-2871287c2707"
      },
      "execution_count": 2,
      "outputs": [
        {
          "output_type": "stream",
          "name": "stdout",
          "text": [
            "Addition: 8\n",
            "Subtraction: 2\n",
            "Multiplication: 15\n",
            "Division: 1.6666666666666667\n",
            "Floor Division: 1\n",
            "Modulus: 2\n",
            "Exponentiation: 125\n"
          ]
        }
      ]
    },
    {
      "cell_type": "markdown",
      "source": [
        "# Relational (Comparison) Operators"
      ],
      "metadata": {
        "id": "1XiuICZhZpXk"
      }
    },
    {
      "cell_type": "markdown",
      "source": [
        "Relational operators compare two values and return a Boolean result.\n",
        "\n",
        "**Equal to (==):**\n",
        "\n",
        "Checks if two values are equal.\n",
        "\n",
        "**Not equal to (!=)**\n",
        "\n",
        "Checks if two values are not equal.\n",
        "\n",
        "**Greater than (>)**\n",
        "\n",
        "Checks if the first value is greater than the second.\n",
        "\n",
        "**Less than (<)**\n",
        "\n",
        "Checks if the first value is less than the second.\n",
        "\n",
        "**Greater than or equal to (>=)**\n",
        "\n",
        "Checks if the first value is greater than or equal to the second.\n",
        "\n",
        "**Less than or equal to (<=)**\n",
        "\n",
        "Checks if the first value is less than or equal to the second."
      ],
      "metadata": {
        "id": "u4sQe-I8aOej"
      }
    },
    {
      "cell_type": "code",
      "source": [
        "# Relational Operators\n",
        "x = 10\n",
        "y = 7\n",
        "\n",
        "# Performing relational operations\n",
        "equal = x == y\n",
        "not_equal = x != y\n",
        "greater_than = x > y\n",
        "less_than = x < y\n",
        "greater_than_equal = x >= y\n",
        "less_than_equal = x <= y\n",
        "\n",
        "# Printing the results\n",
        "print(\"Equal:\", equal)                   # False\n",
        "print(\"Not Equal:\", not_equal)           # True\n",
        "print(\"Greater Than:\", greater_than)     # True\n",
        "print(\"Less Than:\", less_than)           # False\n",
        "print(\"Greater Than or Equal:\", greater_than_equal) # True\n",
        "print(\"Less Than or Equal:\", less_than_equal)       # False\n"
      ],
      "metadata": {
        "id": "LVcwp4nnZiXK"
      },
      "execution_count": null,
      "outputs": []
    },
    {
      "cell_type": "markdown",
      "source": [
        "# Logical Operators\n"
      ],
      "metadata": {
        "id": "2DRO5DrqbLjT"
      }
    },
    {
      "cell_type": "markdown",
      "source": [
        "Logical operators are used to combine multiple Boolean expressions.\n",
        "\n",
        "**AND (and)**\n",
        "\n",
        "Returns True if both conditions are True.\n",
        "\n",
        "**OR (or)**\n",
        "\n",
        "Returns True if at least one condition is True.\n",
        "\n",
        "**NOT (not)**\n",
        "\n",
        "Reverses the Boolean value."
      ],
      "metadata": {
        "id": "RiaGdtYmbRTk"
      }
    },
    {
      "cell_type": "code",
      "source": [
        "# Logical Operators\n",
        "a = True\n",
        "b = False\n",
        "\n",
        "# Performing logical operations\n",
        "and_result = a and b\n",
        "or_result = a or b\n",
        "not_result = not a\n",
        "\n",
        "# Printing the results\n",
        "print(\"AND Result:\", and_result)  # False\n",
        "print(\"OR Result:\", or_result)    # True\n",
        "print(\"NOT Result:\", not_result)  # False\n"
      ],
      "metadata": {
        "id": "hydj15IIbgFh"
      },
      "execution_count": null,
      "outputs": []
    },
    {
      "cell_type": "markdown",
      "source": [
        "# Bitwise Operators\n"
      ],
      "metadata": {
        "id": "G0AgQ9f5eO-S"
      }
    },
    {
      "cell_type": "markdown",
      "source": [
        "Bitwise operators perform operations on the binary representations of integers.\n",
        "\n",
        "**Bitwise AND (&)**\n",
        "\n",
        "Performs a binary AND operation on two integers.\n",
        "\n",
        "**Bitwise OR (|)**\n",
        "\n",
        "Performs a binary OR operation on two integers.\n",
        "\n",
        "**Bitwise XOR (^)**\n",
        "\n",
        "Performs a binary XOR operation on two integers.\n",
        "\n",
        "**Bitwise NOT (~)**\n",
        "\n",
        "Flips all bits in the binary representation of the integer.\n",
        "\n",
        "**Left Shift (<<)**\n",
        "\n",
        "Shifts the bits of the number to the left by a specified number of positions.\n",
        "\n",
        "**Right Shift (>>)**\n",
        "\n",
        "Shifts the bits of the number to the right by a specified number of positions."
      ],
      "metadata": {
        "id": "k3WO8GqceYIi"
      }
    },
    {
      "cell_type": "code",
      "source": [
        "# Bitwise Operators\n",
        "x = 6  # 110 in binary\n",
        "y = 3  # 011 in binary\n",
        "\n",
        "# Performing bitwise operations\n",
        "bitwise_and = x & y\n",
        "bitwise_or = x | y\n",
        "bitwise_xor = x ^ y\n",
        "bitwise_not = ~x\n",
        "left_shift = x << 1\n",
        "right_shift = x >> 1\n",
        "\n",
        "# Printing the results\n",
        "print(\"Bitwise AND:\", bitwise_and)       # 2 (010 in binary)\n",
        "print(\"Bitwise OR:\", bitwise_or)         # 7 (111 in binary)\n",
        "print(\"Bitwise XOR:\", bitwise_xor)       # 5 (101 in binary)\n",
        "print(\"Bitwise NOT:\", bitwise_not)       # -7 (inverted bits and adding 1)\n",
        "print(\"Left Shift:\", left_shift)         # 12 (1100 in binary)\n",
        "print(\"Right Shift:\", right_shift)       # 3 (011 in binary)\n"
      ],
      "metadata": {
        "colab": {
          "base_uri": "https://localhost:8080/"
        },
        "id": "F2osk1vlfBPP",
        "outputId": "ced0837f-2554-4d37-b034-9bea2a47168f"
      },
      "execution_count": 5,
      "outputs": [
        {
          "output_type": "stream",
          "name": "stdout",
          "text": [
            "Bitwise AND: 2\n",
            "Bitwise OR: 7\n",
            "Bitwise XOR: 5\n",
            "Bitwise NOT: -7\n",
            "Left Shift: 12\n",
            "Right Shift: 3\n"
          ]
        }
      ]
    },
    {
      "cell_type": "markdown",
      "source": [
        "# Assignment Operators\n"
      ],
      "metadata": {
        "id": "Zody61qrfGbD"
      }
    },
    {
      "cell_type": "markdown",
      "source": [
        "Assignment operators are used to assign values to variables.\n",
        "\n",
        "For example, if you write code like:"
      ],
      "metadata": {
        "id": "JmCP-tGSfR5B"
      }
    },
    {
      "cell_type": "code",
      "source": [
        "a = 5\n",
        "print(\"Initial value of a:\", a)  # 5\n",
        "\n",
        "a += 2  # Equivalent to a = a + 2\n",
        "\n",
        "print(\"Value of a after a += 2:\", a)  # 7\n"
      ],
      "metadata": {
        "colab": {
          "base_uri": "https://localhost:8080/"
        },
        "id": "tEr5xk9HfWHx",
        "outputId": "e22bd1e9-85fd-4988-e2d6-30e6cbbd3f67"
      },
      "execution_count": 4,
      "outputs": [
        {
          "output_type": "stream",
          "name": "stdout",
          "text": [
            "Initial value of a: 5\n",
            "Value of a after a += 2: 7\n"
          ]
        }
      ]
    },
    {
      "cell_type": "markdown",
      "source": [
        "# Operator precedence"
      ],
      "metadata": {
        "id": "xijaJhZKfgR_"
      }
    },
    {
      "cell_type": "markdown",
      "source": [
        "In Python programming, operator precedence determines the order in which operations are performed in an expression.\n",
        "\n",
        "For example, in the expression 2 + 3 * 4:\n",
        "\n",
        "The multiplication is performed before the addition because the multiplication operator (*) has a higher precedence than the addition operator (+).\n",
        "\n",
        "If you want the addition to be performed first,\n",
        "\n",
        "you can use parentheses to change the order,\n",
        "\n",
        " like this: (2 + 3) * 4."
      ],
      "metadata": {
        "id": "DjXYKd35flcU"
      }
    },
    {
      "cell_type": "code",
      "source": [
        "# Example of operator precedence\n",
        "\n",
        "result_1 = 2 + 3 * 4  # Multiplication is done first, then addition; result_1 = 14\n",
        "result_2 = (2 + 3) * 4  # Parentheses change the order; result_2 = 20\n",
        "result_3 = 10 - 2 ** 2  # Exponentiation is done first, then subtraction; result_3 = 6\n",
        "result_4 = 10 / 2 + 3   # Division is done first, then addition; result_4 = 8.0\n",
        "\n",
        "# Printing the results\n",
        "print(\"result_1:\", result_1)  # 14\n",
        "print(\"result_2:\", result_2)  # 20\n",
        "print(\"result_3:\", result_3)  # 6\n",
        "print(\"result_4:\", result_4)  # 8.0\n"
      ],
      "metadata": {
        "colab": {
          "base_uri": "https://localhost:8080/"
        },
        "id": "Scj4nzU7f7b8",
        "outputId": "3f9f8fcd-d2af-432b-8e37-38b65af84bdd"
      },
      "execution_count": 3,
      "outputs": [
        {
          "output_type": "stream",
          "name": "stdout",
          "text": [
            "result_1: 14\n",
            "result_2: 20\n",
            "result_3: 6\n",
            "result_4: 8.0\n"
          ]
        }
      ]
    },
    {
      "cell_type": "markdown",
      "source": [
        "This code shows how different operators have different levels of precedence,\n",
        "\n",
        "And how parentheses can be used to control the order of operations in an expression."
      ],
      "metadata": {
        "id": "4LyCmkIrgNdZ"
      }
    }
  ]
}