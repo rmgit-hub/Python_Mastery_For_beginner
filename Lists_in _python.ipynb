{
  "nbformat": 4,
  "nbformat_minor": 0,
  "metadata": {
    "colab": {
      "provenance": []
    },
    "kernelspec": {
      "name": "python3",
      "display_name": "Python 3"
    },
    "language_info": {
      "name": "python"
    }
  },
  "cells": [
    {
      "cell_type": "markdown",
      "source": [
        "# Lists"
      ],
      "metadata": {
        "id": "hRuEFhOfUvTw"
      }
    },
    {
      "cell_type": "markdown",
      "source": [
        "List Creation\n",
        "In Python, you can create a list in just one line by enclosing a comma-separated sequence of elements within square brackets [].\n"
      ],
      "metadata": {
        "id": "IX1RRZyEV9Vw"
      }
    },
    {
      "cell_type": "code",
      "source": [
        "# Creating a list of favorite fruits\n",
        "favorite_fruits = [\"Apple\", \"Banana\", \"Cherry\", \"Mango\"]\n",
        "\n",
        "# Printing the list\n",
        "print(\"My favorite fruits are:\", favorite_fruits)"
      ],
      "metadata": {
        "id": "uaWagpKUY6F6",
        "colab": {
          "base_uri": "https://localhost:8080/"
        },
        "outputId": "e95b349d-dd0d-442a-ac88-72dc50bc6b98"
      },
      "execution_count": 1,
      "outputs": [
        {
          "output_type": "stream",
          "name": "stdout",
          "text": [
            "My favorite fruits are: ['Apple', 'Banana', 'Cherry', 'Mango']\n"
          ]
        }
      ]
    },
    {
      "cell_type": "markdown",
      "source": [
        "**Indexing and Slicing**\n",
        "\n",
        "List indexing in Python allows you to access individual elements of a list by using their position, with indices starting at 0 for the first element."
      ],
      "metadata": {
        "id": "YPazFjWYZCxI"
      }
    },
    {
      "cell_type": "code",
      "source": [
        "# Imagine you have a list of days in a week\n",
        "week_days = [\"Monday\", \"Tuesday\", \"Wednesday\", \"Thursday\", \"Friday\", \"Saturday\", \"Sunday\"]\n",
        "\n",
        "# Indexing: Get the day at index 2 (Wednesday)\n",
        "mid_week_day = week_days[2]\n",
        "print(\"Mid-week day:\", mid_week_day)\n",
        "\n",
        "# Slicing: Get the workdays (Monday to Friday)\n",
        "work_days = week_days[0:5]\n",
        "print(\"Workdays:\", work_days)\n",
        "\n",
        "# Slicing: Get the weekend days (Saturday and Sunday)\n",
        "weekend_days = week_days[-2:]\n",
        "print(\"Weekend days:\", weekend_days)"
      ],
      "metadata": {
        "id": "Ojb_GtafZkyZ",
        "colab": {
          "base_uri": "https://localhost:8080/"
        },
        "outputId": "d982a13b-a285-4d13-a208-2f1096b030c5"
      },
      "execution_count": 2,
      "outputs": [
        {
          "output_type": "stream",
          "name": "stdout",
          "text": [
            "Mid-week day: Wednesday\n",
            "Workdays: ['Monday', 'Tuesday', 'Wednesday', 'Thursday', 'Friday']\n",
            "Weekend days: ['Saturday', 'Sunday']\n"
          ]
        }
      ]
    },
    {
      "cell_type": "markdown",
      "source": [
        "**Adding Elements (Append, Extend, Insert)**\n",
        "\n",
        "1. **Append:** Adds a single element to the end of the list.\n",
        "2. **Extend:** Adds multiple elements from another iterable to the end of the list.\n",
        "3. **Insert:** Adds an element at a specific position in the list, requiring both an index and the element."
      ],
      "metadata": {
        "id": "Z88W73jEae3v"
      }
    },
    {
      "cell_type": "code",
      "source": [
        "# Let's say you have a list of your favorite movies\n",
        "favorite_movies = [\"Inception\", \"The Matrix\", \"Interstellar\"]\n",
        "\n",
        "# Append: You just watched a new movie and want to add it to the end of your list\n",
        "favorite_movies.append(\"Tenet\")\n",
        "print(\"After appending a new movie:\", favorite_movies)\n",
        "\n",
        "# Extend: You remember a few more movies you love and want to add them all at once\n",
        "more_movies = [\"The Dark Knight\", \"Pulp Fiction\"]\n",
        "favorite_movies.extend(more_movies)\n",
        "print(\"After extending with more movies:\", favorite_movies)\n",
        "\n",
        "# Insert: You realize that \"The Godfather\" should be at the top of your list, so you insert it at the beginning\n",
        "favorite_movies.insert(0, \"The Godfather\")\n",
        "print(\"After inserting a movie at the top:\", favorite_movies)"
      ],
      "metadata": {
        "id": "yhLHeYNqaonb",
        "colab": {
          "base_uri": "https://localhost:8080/"
        },
        "outputId": "2f01f328-269d-4df6-fcab-f5eb5e4aaf60"
      },
      "execution_count": 3,
      "outputs": [
        {
          "output_type": "stream",
          "name": "stdout",
          "text": [
            "After appending a new movie: ['Inception', 'The Matrix', 'Interstellar', 'Tenet']\n",
            "After extending with more movies: ['Inception', 'The Matrix', 'Interstellar', 'Tenet', 'The Dark Knight', 'Pulp Fiction']\n",
            "After inserting a movie at the top: ['The Godfather', 'Inception', 'The Matrix', 'Interstellar', 'Tenet', 'The Dark Knight', 'Pulp Fiction']\n"
          ]
        }
      ]
    },
    {
      "cell_type": "markdown",
      "source": [
        "**Removing elements from a list**\n",
        "\n",
        " Removing elements from a list in Python is crucial for managing data, with various methods like remove, pop, and clear available.\n",
        "\n",
        "The `remove` method deletes the first occurrence of a specified element by value.\n",
        "\n",
        "The `pop` method removes and returns an element at a given index.\n",
        "\n",
        "The `clear` method removes all elements from the list, leaving it empty."
      ],
      "metadata": {
        "id": "baCIm2aRkXqG"
      }
    },
    {
      "cell_type": "code",
      "source": [
        "tasks = [\"Email clients\", \"Meeting with team\", \"Lunch with a friend\", \"Write report\"]\n",
        "\n",
        "# You completed \"Email clients\" and want to remove it from the list\n",
        "tasks.remove(\"Email clients\")\n",
        "print(\"Tasks after removing 'Email clients':\", tasks)\n",
        "\n",
        "# The meeting with the team was canceled, so you remove it using pop (assuming it's the next task)\n",
        "canceled_task = tasks.pop(0)\n",
        "print(f\"'{canceled_task}' was canceled, remaining tasks:\", tasks)\n",
        "\n",
        "# Finally, you decide to clear all tasks at the end of the day\n",
        "tasks.clear()\n",
        "print(\"Tasks after clearing all:\", tasks)"
      ],
      "metadata": {
        "id": "NpbCDjS5k28g"
      },
      "execution_count": null,
      "outputs": []
    },
    {
      "cell_type": "markdown",
      "source": [
        "**List comprehensions**\n",
        "\n",
        "List comprehensions in Python provide a concise way to create and manipulate lists, allowing you to generate or filter elements in a single, readable line of code.\n",
        "\n",
        "This feature simplifies applying operations to each element or filtering based on conditions, making your code shorter and more understandable.\n",
        "\n",
        "For example, you can use list comprehensions to extract the length of each review in a list of customer review texts for further analysis."
      ],
      "metadata": {
        "id": "Ld3aT1_1mA5G"
      }
    },
    {
      "cell_type": "code",
      "source": [
        "# List of customer reviews\n",
        "reviews = [\"Great product!\", \"Not worth the price.\", \"Excellent quality, will buy again.\", \"Average experience.\", \"Too expensive for what it offers.\"]\n",
        "\n",
        "# Using list comprehension to get the length of each review\n",
        "review_lengths = [len(review) for review in reviews]\n",
        "print(\"Lengths of each review:\", review_lengths)"
      ],
      "metadata": {
        "id": "fX9WdDMCmLwH"
      },
      "execution_count": null,
      "outputs": []
    },
    {
      "cell_type": "markdown",
      "source": [
        "**Sorting and reversing lists in Python**\n",
        "\n",
        "Sorting and reversing lists in Python are key for organizing data. The `sort()`, `sorted()`, and `reverse()` methods allow you to arrange elements in order or flip their sequence, which is useful for displaying or analyzing data.\n",
        "\n",
        "For example, in an online store, you can sort product prices from lowest to highest or reverse the list to show the most expensive items first."
      ],
      "metadata": {
        "id": "pSOT8Dc7nBuO"
      }
    },
    {
      "cell_type": "code",
      "source": [
        "# List of product prices\n",
        "product_prices = [199.99, 49.99, 299.99, 149.99, 89.99]\n",
        "\n",
        "# Sort the prices in ascending order\n",
        "product_prices.sort()\n",
        "print(\"Sorted prices (low to high):\", product_prices)\n",
        "\n",
        "# Reverse the list to show the most expensive items first\n",
        "product_prices.reverse()\n",
        "print(\"Prices (high to low):\", product_prices)"
      ],
      "metadata": {
        "id": "5c6Ef8GxnNxz"
      },
      "execution_count": null,
      "outputs": []
    },
    {
      "cell_type": "markdown",
      "source": [
        "**Iterating Through a List**\n",
        "\n",
        "Iterating through a list in Python lets you process each element one by one, ideal for tasks like filtering data or applying calculations.\n",
        "\n",
        "Python’s `for` loop makes it simple to handle each item efficiently."
      ],
      "metadata": {
        "id": "KwJIgxq2nZ7l"
      }
    },
    {
      "cell_type": "code",
      "source": [
        "# List of customer names\n",
        "customers = [\"Alice\", \"Bob\", \"Charlie\", \"Diana\"]\n",
        "\n",
        "# Iterate through the list and print a greeting for each customer\n",
        "for customer in customers:\n",
        "    print(f\"Hello, {customer}! Thank you for your purchase.\")"
      ],
      "metadata": {
        "id": "cN31nsf8n-5w"
      },
      "execution_count": null,
      "outputs": []
    },
    {
      "cell_type": "markdown",
      "source": [
        "**Nested lists in Python**\n",
        "\n",
        "Nested lists in Python are lists within lists, useful for representing multidimensional data like matrices or grids.\n",
        "\n",
        "Each sublist can represent a row or a group of related data. For example, a seating chart for a theater can be managed using nested lists, where each sublist represents a row of seats."
      ],
      "metadata": {
        "id": "kJveXDnRoLuG"
      }
    },
    {
      "cell_type": "code",
      "source": [
        "# Nested list representing seating rows in a theater\n",
        "seating_chart = [\n",
        "    [\"Seat1\", \"Seat2\", \"Seat3\"],\n",
        "    [\"Seat4\", \"Seat5\", \"Seat6\"],\n",
        "    [\"Seat7\", \"Seat8\", \"Seat9\"]\n",
        "]\n",
        "\n",
        "# Accessing a specific seat (Row 2, Seat 2)\n",
        "print(\"Selected seat:\", seating_chart[1][1])"
      ],
      "metadata": {
        "id": "115U2NZ6osGT"
      },
      "execution_count": null,
      "outputs": []
    },
    {
      "cell_type": "markdown",
      "source": [
        "**List methods  in Python**\n",
        "\n",
        "List methods such as `count` and `index` in Python are useful for analyzing lists.\n",
        "\n",
        "The `count` method tells you how many times a specific element appears, while the `index` method finds the position of its first occurrence.\n",
        "\n",
        "For example, in a list of students' names, you can use these methods to check how often a name appears and where it first occurs."
      ],
      "metadata": {
        "id": "EaxlpJcNpNwq"
      }
    },
    {
      "cell_type": "code",
      "source": [
        "# List of student names\n",
        "students = [\"Alice\", \"Bob\", \"Charlie\", \"Alice\", \"Eve\", \"Alice\"]\n",
        "\n",
        "# Count how many times \"Alice\" appears\n",
        "alice_count = students.count(\"Alice\")\n",
        "print(\"Alice appears:\", alice_count, \"times\")\n",
        "\n",
        "# Find the index of the first occurrence of \"Charlie\"\n",
        "charlie_index = students.index(\"Charlie\")\n",
        "print(\"First occurrence of Charlie is at index:\", charlie_index)"
      ],
      "metadata": {
        "id": "HrpHOFeYpti2"
      },
      "execution_count": null,
      "outputs": []
    },
    {
      "cell_type": "markdown",
      "source": [
        "**Copying Lists (Shallow vs. Deep Copy)**\n",
        "\n",
        "Copying lists in Python can be done in two ways:\n",
        "\n",
        "*   shallow copy\n",
        "\n",
        "*   deep copy\n",
        "\n",
        "\n",
        "Understanding the difference between these two is crucial when working with complex data structures.\n",
        "\n",
        "**Shallow Copy**\n",
        "\n",
        "Creates a new list, but elements in the new list are references to the objects found in the original list. Changes to mutable objects in the copied list will affect the original list.\n",
        "\n",
        "**Deep Copy**\n",
        "\n",
        "Creates a new list and recursively copies all objects found in the original list, including nested lists. Changes to elements in the copied list do not affect the original list."
      ],
      "metadata": {
        "id": "TBGfIL4XqT5c"
      }
    },
    {
      "cell_type": "code",
      "source": [
        "import copy\n",
        "\n",
        "# Original list of teams and players\n",
        "teams = [[\"Alice\", \"Bob\"], [\"Charlie\", \"David\"], [\"Eve\", \"Frank\"]]\n",
        "\n",
        "# Shallow copy of the teams list\n",
        "teams_shallow = copy.copy(teams)\n",
        "# Deep copy of the teams list\n",
        "teams_deep = copy.deepcopy(teams)\n",
        "\n",
        "# Modify a player's name in the shallow copy\n",
        "teams_shallow[0][0] = \"Anna\"\n",
        "print(\"Original list after shallow copy modification:\", teams)\n",
        "\n",
        "# Modify a player's name in the deep copy\n",
        "teams_deep[1][0] = \"Chris\"\n",
        "print(\"Original list after deep copy modification:\", teams)"
      ],
      "metadata": {
        "id": "MWDvqOVUt6RL"
      },
      "execution_count": null,
      "outputs": []
    },
    {
      "cell_type": "markdown",
      "source": [
        "**List concatenation in Python**\n",
        "\n",
        "List concatenation in Python combines two or more lists into a single list using the `+` operator or the `extend()` method.\n",
        "\n",
        "It's useful for merging related items, like combining different product categories or multiple lists of names."
      ],
      "metadata": {
        "id": "z2oNZQ0uvuAN"
      }
    },
    {
      "cell_type": "code",
      "source": [
        "# List of fruits\n",
        "fruits = [\"Apple\", \"Banana\", \"Cherry\"]\n",
        "\n",
        "# List of vegetables\n",
        "vegetables = [\"Carrot\", \"Broccoli\", \"Spinach\"]\n",
        "\n",
        "# Concatenate the two lists using the + operator\n",
        "shopping_list = fruits + vegetables\n",
        "print(\"Shopping list (using +):\", shopping_list)\n",
        "\n",
        "# Alternatively, you can use the extend() method\n",
        "fruits.extend(vegetables)\n",
        "print(\"Shopping list (using extend):\", fruits)"
      ],
      "metadata": {
        "id": "t24lEf5jrF4S"
      },
      "execution_count": null,
      "outputs": []
    },
    {
      "cell_type": "markdown",
      "source": [
        "**Checking membership in Python**\n",
        "\n",
        "Checking membership in Python with the `in` and `not in` operators lets you determine if an element is present in a list or other iterable.\n",
        "\n",
        "These operators are useful for verifying the existence of an item before taking action or making decisions based on whether the element is present or absent."
      ],
      "metadata": {
        "id": "95FLw2aCwiUq"
      }
    },
    {
      "cell_type": "code",
      "source": [
        "# Guest list for the party\n",
        "guest_list = [\"Alice\", \"Bob\", \"Charlie\", \"Diana\"]\n",
        "\n",
        "# Check if \"Alice\" is in the guest list\n",
        "if \"Alice\" in guest_list:\n",
        "    print(\"Alice is already on the guest list.\")\n",
        "\n",
        "# Check if \"Eve\" is not in the guest list\n",
        "if \"Eve\" not in guest_list:\n",
        "    print(\"Eve is not on the guest list. Let's add her.\")"
      ],
      "metadata": {
        "id": "1TWPNNTgws8p"
      },
      "execution_count": null,
      "outputs": []
    },
    {
      "cell_type": "markdown",
      "source": [
        "# Tuples\n"
      ],
      "metadata": {
        "id": "EWCzQXWtUv-G"
      }
    },
    {
      "cell_type": "markdown",
      "source": [
        "# Dictionaries"
      ],
      "metadata": {
        "id": "LZwvnjOfUwir"
      }
    },
    {
      "cell_type": "markdown",
      "source": [
        "# Sets"
      ],
      "metadata": {
        "id": "56_FazBCUxSm"
      }
    },
    {
      "cell_type": "markdown",
      "source": [
        "# Strings"
      ],
      "metadata": {
        "id": "x1Ab6-LTUx_3"
      }
    },
    {
      "cell_type": "markdown",
      "source": [
        "# Arrays"
      ],
      "metadata": {
        "id": "hK3fMXN5VZII"
      }
    }
  ]
}