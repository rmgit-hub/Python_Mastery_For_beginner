{
  "nbformat": 4,
  "nbformat_minor": 0,
  "metadata": {
    "colab": {
      "provenance": []
    },
    "kernelspec": {
      "name": "python3",
      "display_name": "Python 3"
    },
    "language_info": {
      "name": "python"
    }
  },
  "cells": [
    {
      "cell_type": "markdown",
      "source": [
        "# Tuples"
      ],
      "metadata": {
        "id": "KgJF1HNGrxgQ"
      }
    },
    {
      "cell_type": "markdown",
      "source": [
        "A tuple in Python is an ordered, immutable collection of elements, defined using parentheses ().\n",
        "\n",
        "Difference Between Ttples And Lists\n",
        "Unlike lists, which are mutable and use square brackets [], tuples cannot be modified after creation, making them ideal for storing data that should remain constant."
      ],
      "metadata": {
        "id": "LDaKs_Atr1g7"
      }
    },
    {
      "cell_type": "code",
      "source": [
        "my_list = [1, 2, 3]   # Mutable list\n",
        "my_tuple = (1, 2, 3)  # Immutable tuple\n",
        "\n",
        "# Modifying the list\n",
        "my_list[0] = 10  # This will work because lists are mutable\n",
        "print(my_list)   # Output: [10, 2, 3]\n",
        "\n",
        "# Modifying the tuple\n",
        "my_tuple[0] = 10  # This will raise a TypeError because tuples are immutable"
      ],
      "metadata": {
        "id": "Xpx-jjSwsl63"
      },
      "execution_count": null,
      "outputs": []
    },
    {
      "cell_type": "markdown",
      "source": [
        "**The implications of immutability**\n",
        "\n",
        "Immutability in Python ensures data integrity by preventing changes to objects, making them safe to use as dictionary keys and in other contexts where stability is essential."
      ],
      "metadata": {
        "id": "Jk0et8gzs0UM"
      }
    },
    {
      "cell_type": "markdown",
      "source": [
        "**Performance Comparison between Lists and Tuples**\n",
        "\n",
        "Tuples in Python are faster and use less memory than lists due to their immutability, making them ideal for storing fixed, unchangeable data.\n",
        "\n",
        "Use tuples for constant data needing quick access, and lists for mutable collections."
      ],
      "metadata": {
        "id": "D0U9wzCWw9F0"
      }
    },
    {
      "cell_type": "code",
      "source": [
        "import sys\n",
        "\n",
        "# Memory comparison\n",
        "my_list = [1, 2, 3, 4, 5]\n",
        "my_tuple = (1, 2, 3, 4, 5)\n",
        "\n",
        "print(sys.getsizeof(my_list))   # Memory size of list eqals 104\n",
        "print(sys.getsizeof(my_tuple))  # Memory size of tuple eqals 80"
      ],
      "metadata": {
        "id": "oJ6SMPC3xKm8"
      },
      "execution_count": null,
      "outputs": []
    },
    {
      "cell_type": "markdown",
      "source": [
        "**Accessing Tuple Elements**\n",
        "\n",
        "In Python, you can access tuple elements using indexing and slicing, similar to lists.\n",
        "\n",
        "Positive indices retrieve elements from the start (e.g., `0` for the first element), while negative indices count from the end (e.g., `-1` for the last element).\n",
        "\n",
        " Slicing extracts a portion of the tuple by specifying a range."
      ],
      "metadata": {
        "id": "eWJJrQ5CtC6L"
      }
    },
    {
      "cell_type": "code",
      "source": [
        "my_tuple = (10, 20, 30, 40)\n",
        "\n",
        "# Indexing\n",
        "print(my_tuple[1])  # Output: 20\n",
        "\n",
        "# Slicing\n",
        "print(my_tuple[1:3])  # Output: (20, 30)\n",
        "\n",
        "# Accessing the last element with negative indexing\n",
        "print(my_tuple[-1])  # Output: 40\n",
        "\n",
        "# Accessing the second-to-last element\n",
        "print(my_tuple[-2])  # Output: 30"
      ],
      "metadata": {
        "id": "Ct5Thon4tUgM"
      },
      "execution_count": null,
      "outputs": []
    },
    {
      "cell_type": "markdown",
      "source": [
        "**Tuple Operations**\n",
        "\n",
        "\n",
        "Tuples in Python support operations like **concatenation**, **repetition**, and **membership testing**.\n",
        "\n",
        "Concatenation combines two tuples into one, repetition creates multiple copies of a tuple,\n",
        "\n",
        "And membership testing checks if an element is present in the tuple using in or not in."
      ],
      "metadata": {
        "id": "rdQKKurQtmUM"
      }
    },
    {
      "cell_type": "code",
      "source": [
        "tuple1 = (1, 2, 3)\n",
        "tuple2 = (4, 5)\n",
        "\n",
        "# Concatenation\n",
        "combined_tuple = tuple1 + tuple2  # Output: (1, 2, 3, 4, 5)\n",
        "\n",
        "# Repetition\n",
        "repeated_tuple = tuple1 * 2  # Output: (1, 2, 3, 1, 2, 3)\n",
        "\n",
        "# Membership testing\n",
        "is_in_tuple = 2 in tuple1  # Output: True\n",
        "is_not_in_tuple = 4 not in tuple1  # Output: True"
      ],
      "metadata": {
        "id": "VM3WIQK4t9Ka"
      },
      "execution_count": null,
      "outputs": []
    },
    {
      "cell_type": "markdown",
      "source": [
        "**Tuple unpacking**\n",
        "\n",
        "Tuple unpacking in Python allows you to assign elements of a tuple to multiple variables in a single statement.\n",
        "\n",
        "This is useful for functions, loops, or when dealing with multiple return values.\n",
        "\n",
        "You can also use the * operator to capture remaining elements into a list."
      ],
      "metadata": {
        "id": "m4tE8D-7uHMc"
      }
    },
    {
      "cell_type": "code",
      "source": [
        "# Basic tuple unpacking\n",
        "my_tuple = (1, 2, 3)\n",
        "a, b, c = my_tuple  # a = 1, b = 2, c = 3\n",
        "\n",
        "# Using the * operator for unpacking\n",
        "my_tuple = (1, 2, 3, 4, 5)\n",
        "a, *b, c = my_tuple  # a = 1, b = [2, 3, 4], c = 5"
      ],
      "metadata": {
        "id": "m0IVpZlouXNy"
      },
      "execution_count": null,
      "outputs": []
    },
    {
      "cell_type": "markdown",
      "source": [
        "**Tuple Methods**\n",
        "\n",
        "Tuples have two methods: count() returns the number of times a value appears,\n",
        "And index() gives the first position of a value."
      ],
      "metadata": {
        "id": "2MHDbalQubic"
      }
    },
    {
      "cell_type": "code",
      "source": [
        "my_tuple = (10, 20, 30, 35, 20)\n",
        "\n",
        "print(my_tuple.count(20))  # Output: 2\n",
        "print(my_tuple.index(35))  # Output: 3"
      ],
      "metadata": {
        "id": "Q0VdviBIwo3E"
      },
      "execution_count": null,
      "outputs": []
    },
    {
      "cell_type": "markdown",
      "source": [
        "**Nested tuples**\n",
        "Nested tuples are tuples within tuples. Access elements using multiple indices to navigate the nested structure."
      ],
      "metadata": {
        "id": "9CdXJ8ngwtFH"
      }
    },
    {
      "cell_type": "code",
      "source": [
        "nested_tuple = (1, (2, 3), (4, (5, 6)))\n",
        "\n",
        "# Accessing nested elements\n",
        "print(nested_tuple[2][1][1])  # Output: 6"
      ],
      "metadata": {
        "id": "WGZ3CiFiwwes"
      },
      "execution_count": null,
      "outputs": []
    },
    {
      "cell_type": "markdown",
      "source": [
        "**Converting Between Tuples and Other Data Structures**\n",
        "\n",
        "Tuples and lists can be easily converted between each other using the tuple() and list() constructors.\n",
        "\n",
        "This allows flexibility in switching between mutable and immutable data structures depending on the needs of your program."
      ],
      "metadata": {
        "id": "XcOY3DFvxSU0"
      }
    },
    {
      "cell_type": "code",
      "source": [
        "# Converting a list to a tuple\n",
        "my_list = [1, 2, 3]\n",
        "my_tuple = tuple(my_list)  # Output: (1, 2, 3)\n",
        "\n",
        "# Converting a tuple to a list\n",
        "my_tuple = (4, 5, 6)\n",
        "my_list = list(my_tuple)  # Output: [4, 5, 6]"
      ],
      "metadata": {
        "id": "_A-4Sk2oxdDl"
      },
      "execution_count": null,
      "outputs": []
    },
    {
      "cell_type": "markdown",
      "source": [
        "# Dictionaries\n",
        "Dictionary Basics\n",
        "A dictionary is an unordered collection of key-value pairs, where each key is unique and maps to a specific value."
      ],
      "metadata": {
        "id": "Brct0TdlxqVb"
      }
    },
    {
      "cell_type": "markdown",
      "source": [
        "**Creating and accessing dictionary**"
      ],
      "metadata": {
        "id": "z7MSk_S8x-3k"
      }
    },
    {
      "cell_type": "code",
      "source": [
        "my_dict = {'name': 'Alice', 'age': 25, 'city': 'New York'}\n",
        "print(my_dict['name'])  # Output: Alice"
      ],
      "metadata": {
        "id": "YewvSe8Tx86s"
      },
      "execution_count": null,
      "outputs": []
    },
    {
      "cell_type": "markdown",
      "source": [
        "**Dictionary Methods**\n",
        "\n",
        "Dictionaries in Python have various built-in methods that allow you to manipulate and interact with key-value pairs effectively."
      ],
      "metadata": {
        "id": "YckjXNf0ywUE"
      }
    },
    {
      "cell_type": "code",
      "source": [
        "my_dict = {'name': 'Alice', 'age': 25, 'city': 'New York'}\n",
        "\n",
        "# Access a value by key with .get() method\n",
        "print(my_dict.get('age'))  # Output: 25\n",
        "\n",
        "# Add or update a key-value pair with .update() method\n",
        "my_dict.update({'age': 26, 'country': 'USA'})\n",
        "print(my_dict)  # Output: {'name': 'Alice', 'age': 26, 'city': 'New York', 'country': 'USA'}\n",
        "\n",
        "# Remove a key-value pair with .pop() method\n",
        "age = my_dict.pop('age')\n",
        "print(age)  # Output: 26\n",
        "print(my_dict)  # Output: {'name': 'Alice', 'city': 'New York', 'country': 'USA'}"
      ],
      "metadata": {
        "id": "2D56tcxoy5Iz"
      },
      "execution_count": null,
      "outputs": []
    },
    {
      "cell_type": "markdown",
      "source": [
        "**Explanation**\n",
        "\n",
        ".get('age') retrieves the value associated with the key 'age', which is 25.\n",
        "\n",
        ".update({'age': 26, 'country': 'USA'}) updates the 'age' key to 26 and adds a new key 'country' with the value 'USA'.\n",
        "\n",
        ".pop('age') removes the 'age' key from the dictionary and returns its value, 26."
      ],
      "metadata": {
        "id": "dpZ8gBxLzcOl"
      }
    },
    {
      "cell_type": "markdown",
      "source": [
        "**Dictionary Comprehensions**\n",
        "\n",
        "Dictionary comprehensions provide a concise way to create dictionaries by iterating over an iterable."
      ],
      "metadata": {
        "id": "xJ5MyYCl0UmM"
      }
    },
    {
      "cell_type": "code",
      "source": [
        "# Create a dictionary with numbers as keys and their squares as values\n",
        "squares = {x: x*x for x in range(6)}\n",
        "\n",
        "print(squares)  # Output: {0: 0, 1: 1, 2: 4, 3: 9, 4: 16, 5: 25}"
      ],
      "metadata": {
        "id": "9a4A1Otl0Y1W"
      },
      "execution_count": null,
      "outputs": []
    },
    {
      "cell_type": "markdown",
      "source": [
        "**Dictionary Merging**\n",
        "\n",
        "Dictionary merging combines two dictionaries into one, updating or adding new key-value pairs."
      ],
      "metadata": {
        "id": "HNl4xnWL0fbl"
      }
    },
    {
      "cell_type": "code",
      "source": [
        "dict1 = {'a': 1, 'b': 2}\n",
        "dict2 = {'b': 3, 'c': 4}\n",
        "\n",
        "# Merge dict2 into dict1\n",
        "dict1.update(dict2)\n",
        "\n",
        "print(dict1)  # Output: {'a': 1, 'b': 3, 'c': 4"
      ],
      "metadata": {
        "id": "7u7B19zB0lA1"
      },
      "execution_count": null,
      "outputs": []
    },
    {
      "cell_type": "markdown",
      "source": [
        "**Nested Dictionaries**\n",
        "\n",
        "Nested dictionaries are dictionaries that contain other dictionaries as their values."
      ],
      "metadata": {
        "id": "THu0Trwy01md"
      }
    },
    {
      "cell_type": "code",
      "source": [
        "nested_dict = {\n",
        "    'person1': {'name': 'Alice', 'age': 30},\n",
        "    'person2': {'name': 'Bob', 'age': 25}\n",
        "}\n",
        "\n",
        "# Access the nested dictionary for 'person1' and then the 'name' key\n",
        "print(nested_dict['person1']['name'])  # Output: Alice"
      ],
      "metadata": {
        "id": "hsZFJj6W04qF"
      },
      "execution_count": null,
      "outputs": []
    },
    {
      "cell_type": "markdown",
      "source": [
        "**Checking for Keys**\n",
        "\n",
        "You can check if a key exists in a dictionary using the in keyword."
      ],
      "metadata": {
        "id": "8Sjrvmfm1ACV"
      }
    },
    {
      "cell_type": "code",
      "source": [
        "my_dict = {'name': 'Alice', 'age': 25}\n",
        "\n",
        "# Check if 'age' key exists\n",
        "if 'age' in my_dict:\n",
        "    print(\"Key 'age' exists!\")  # Output: Key 'age' exists!\n",
        "\n",
        "# Check if 'city' key exists\n",
        "if 'city' not in my_dict:\n",
        "    print(\"Key 'city' does not exist!\")  # Output: Key 'city' does not exist!"
      ],
      "metadata": {
        "id": "LgrXaUO21DPd"
      },
      "execution_count": null,
      "outputs": []
    },
    {
      "cell_type": "markdown",
      "source": [
        "**Looping Through Dictionaries**\n",
        "\n",
        "You can loop through a dictionary to access keys, values, or key-value pairs."
      ],
      "metadata": {
        "id": "uXEJosUd1Lm8"
      }
    },
    {
      "cell_type": "code",
      "source": [
        "my_dict = {'name': 'Alice', 'age': 25, 'city': 'New York'}\n",
        "\n",
        "# Loop through keys\n",
        "for key in my_dict:\n",
        "    print(key)  # Output: name, age, city\n",
        "\n",
        "# Loop through values\n",
        "for value in my_dict.values():\n",
        "    print(value)  # Output: Alice, 25, New York\n",
        "\n",
        "# Loop through key-value pairs\n",
        "for key, value in my_dict.items():\n",
        "    print(f\"{key}: {value}\")\n",
        "    # Output:\n",
        "    # name: Alice\n",
        "    # age: 25\n",
        "    # city: New York"
      ],
      "metadata": {
        "id": "j4fjPgcn1S30"
      },
      "execution_count": null,
      "outputs": []
    },
    {
      "cell_type": "markdown",
      "source": [
        "**Immutable Keys**\n",
        "\n",
        "Dictionary keys must be immutable, meaning they cannot be changed."
      ],
      "metadata": {
        "id": "DnYazD5o1dWd"
      }
    },
    {
      "cell_type": "code",
      "source": [
        "# Valid keys\n",
        "my_dict = {\n",
        "    'name': 'Alice',  # String key\n",
        "    123: 'Number',    # Integer key\n",
        "}\n",
        "\n",
        "# Invalid key (would raise an error)\n",
        "# my_dict = {[1, 2, 3]: 'List as key'}  # Lists can't be dictionary keys"
      ],
      "metadata": {
        "id": "xidng4Tf1hml"
      },
      "execution_count": null,
      "outputs": []
    },
    {
      "cell_type": "markdown",
      "source": [
        "**Handling Missing Keys**\n",
        "\n",
        "Accessing a missing key directly raises a KeyError, but using the .get() method avoids this error."
      ],
      "metadata": {
        "id": "VVcxm1NY10EF"
      }
    },
    {
      "cell_type": "code",
      "source": [
        "my_dict = {'name': 'Alice', 'age': 25}\n",
        "\n",
        "# Trying to access a key that doesn't exist (without .get())\n",
        "# This will raise a KeyError\n",
        "# print(my_dict['city'])  # Uncommenting this line will raise KeyError: 'city'\n",
        "\n",
        "# Safely access a key that doesn't exist using .get()\n",
        "print(my_dict.get('city', 'Unknown'))  # Output: Unknown"
      ],
      "metadata": {
        "id": "eL2NtqRE122l"
      },
      "execution_count": null,
      "outputs": []
    },
    {
      "cell_type": "markdown",
      "source": [
        "**Performance Considerations**\n",
        "\n",
        "Dictionary operations like lookups, inserts, and deletes are highly efficient, generally with O(1) time complexity due to the underlying hash table implementation."
      ],
      "metadata": {
        "id": "YVRJ-QiY19_9"
      }
    },
    {
      "cell_type": "code",
      "source": [
        "my_dict = {'name': 'Alice', 'age': 25}\n",
        "\n",
        "# Lookup operation\n",
        "print(my_dict['name'])  # O(1) time complexity\n",
        "\n",
        "# Insert operation\n",
        "my_dict['city'] = 'New York'  # O(1) time complexity\n",
        "\n",
        "# Delete operation\n",
        "del my_dict['age']  # O(1) time complexity"
      ],
      "metadata": {
        "id": "WhbIxhhW2G9d"
      },
      "execution_count": null,
      "outputs": []
    },
    {
      "cell_type": "markdown",
      "source": [
        "**Defaultdict in Python**\n",
        "\n",
        "A regular dictionary raises a KeyError when you try to access a key that doesn't exist.\n",
        "\n",
        "In contrast, a defaultdict automatically provides a default value for any missing key, avoiding the error and making it easier to work with."
      ],
      "metadata": {
        "id": "m4hQrQo32NTN"
      }
    },
    {
      "cell_type": "code",
      "source": [
        "# Regular dictionary example\n",
        "my_dict = {'name': 'Alice', 'age': 25}\n",
        "\n",
        "# Accessing a non-existent key in a regular dictionary\n",
        "# This will raise a KeyError\n",
        "# print(my_dict['city'])  # Uncommenting this line will raise KeyError: 'city'\n",
        "\n",
        "# defaultdict example\n",
        "from collections import defaultdict\n",
        "\n",
        "# Create a defaultdict with int as the default factory\n",
        "my_defaultdict = defaultdict(int)\n",
        "\n",
        "# Accessing a non-existent key returns the default value (0 in this case)\n",
        "print(my_defaultdict['count'])  # Output: 0\n",
        "\n",
        "# Increment the value of a key in defaultdict\n",
        "my_defaultdict['count'] += 1\n",
        "print(my_defaultdict['count'])  # Output: 1"
      ],
      "metadata": {
        "id": "ONTVSs3W2VZB"
      },
      "execution_count": null,
      "outputs": []
    },
    {
      "cell_type": "markdown",
      "source": [
        "# Python Sets\n"
      ],
      "metadata": {
        "id": "8QabrvWb22lk"
      }
    },
    {
      "cell_type": "markdown",
      "source": [
        "**Introduction to Python Sets**\n",
        "\n",
        "A Python set is an unordered collection of unique elements. Sets are defined using {} or the set() function.\n",
        "They are useful for membership testing and eliminating duplicates"
      ],
      "metadata": {
        "id": "KE7d8grT268V"
      }
    },
    {
      "cell_type": "code",
      "source": [
        "my_list = [1, 2, 3, 4, 4, 5, 5, 6]\n",
        "my_set = set(my_list)\n",
        "print(my_set)  # Output: {1, 2, 3, 4, 5, 6}"
      ],
      "metadata": {
        "id": "-ImyLpq73GWQ"
      },
      "execution_count": null,
      "outputs": []
    },
    {
      "cell_type": "markdown",
      "source": [
        "**Set operations**\n",
        "\n",
        "Python sets support operations like union, intersection, difference, and symmetric difference."
      ],
      "metadata": {
        "id": "4_4k_8GV3X3t"
      }
    },
    {
      "cell_type": "code",
      "source": [
        "set_a = {1, 2, 3}\n",
        "set_b = {3, 4, 5}\n",
        "\n",
        "union_set = set_a | set_b               # Union: {1, 2, 3, 4, 5}\n",
        "intersection_set = set_a & set_b        # Intersection: {3}\n",
        "difference_set = set_a - set_b          # Difference: {1, 2}\n",
        "symmetric_diff_set = set_a ^ set_b      # Symmetric Difference: {1, 2, 4, 5}\n",
        "\n",
        "print(union_set)\n",
        "print(intersection_set)\n",
        "print(difference_set)\n",
        "print(symmetric_diff_set)"
      ],
      "metadata": {
        "id": "Uf_ZVvNQ3biJ"
      },
      "execution_count": null,
      "outputs": []
    },
    {
      "cell_type": "markdown",
      "source": [
        "**Set methods**\n",
        "\n",
        "Common methods include add(), remove(), discard(), pop(), and clear()."
      ],
      "metadata": {
        "id": "Q0N4WvZJ3lRV"
      }
    },
    {
      "cell_type": "code",
      "source": [
        "my_set = {1, 2, 3}\n",
        "\n",
        "my_set.add(4)         # Adds 4 to the set\n",
        "my_set.discard(2)     # Removes 2 from the set\n",
        "removed_item = my_set.pop()  # Removes a random element from the set\n",
        "my_set.clear()        # Clears the set\n",
        "\n",
        "print(my_set)         # Output: set()"
      ],
      "metadata": {
        "id": "PzuHhZfI4KDO"
      },
      "execution_count": null,
      "outputs": []
    },
    {
      "cell_type": "markdown",
      "source": [
        "**Frozen sets**\n",
        "\n",
        "A frozenset is an immutable version of a set, meaning its elements cannot be changed after creation."
      ],
      "metadata": {
        "id": "CFE-zyiD4U5G"
      }
    },
    {
      "cell_type": "code",
      "source": [
        "my_frozenset = frozenset([1, 2, 3, 4])\n",
        "\n",
        "# Attempting to modify the frozenset\n",
        "# my_frozenset.add(5)  # This will raise an AttributeError\n",
        "\n",
        "print(my_frozenset)  # Output: frozenset({1, 2, 3, 4})"
      ],
      "metadata": {
        "id": "dZOxSpiy4aQ9"
      },
      "execution_count": null,
      "outputs": []
    },
    {
      "cell_type": "markdown",
      "source": [
        "**Set membership testing**\n",
        "\n",
        "Use the in keyword to check if an element exists in a set."
      ],
      "metadata": {
        "id": "er9NXc1s5NuN"
      }
    },
    {
      "cell_type": "code",
      "source": [
        "my_set = {1, 2, 3, 4, 5}\n",
        "\n",
        "print(3 in my_set)    # Output: True\n",
        "print(6 in my_set)    # Output: False"
      ],
      "metadata": {
        "id": "Hig1iD1P5Tog"
      },
      "execution_count": null,
      "outputs": []
    },
    {
      "cell_type": "markdown",
      "source": [
        "**Iterating through a set**\n",
        "\n",
        "You can iterate over a set using a for loop to access each element."
      ],
      "metadata": {
        "id": "gikcNKCF5X4A"
      }
    },
    {
      "cell_type": "code",
      "source": [
        "my_set = {1, 2, 3, 4, 5}\n",
        "\n",
        "for element in my_set:\n",
        "    print(element)"
      ],
      "metadata": {
        "id": "wv7YU1nO5dKn"
      },
      "execution_count": null,
      "outputs": []
    },
    {
      "cell_type": "markdown",
      "source": [
        "**Set comparisons**\n",
        "\n",
        "Sets can be compared using comparison operators to check for subsets, supersets, or equality."
      ],
      "metadata": {
        "id": "guSc1D4i5hvP"
      }
    },
    {
      "cell_type": "code",
      "source": [
        "set_a = {1, 2, 3}\n",
        "set_b = {1, 2, 3, 4, 5}\n",
        "\n",
        "print(set_a <= set_b)  # Output: True (set_a is a subset of set_b)\n",
        "print(set_b >= set_a)  # Output: True (set_b is a superset of set_a)\n",
        "print(set_a == {1, 2, 3})  # Output: True (sets are equal)"
      ],
      "metadata": {
        "id": "ASKO6RpM5mVn"
      },
      "execution_count": null,
      "outputs": []
    },
    {
      "cell_type": "markdown",
      "source": [
        "**Applications of sets**\n",
        "\n",
        "Sets are commonly used for removing duplicates, membership testing, and performing set operations in data processing."
      ],
      "metadata": {
        "id": "TG9y8sml5qs3"
      }
    },
    {
      "cell_type": "code",
      "source": [
        "# Removing duplicates from a list\n",
        "my_list = [1, 2, 2, 3, 4, 4, 5]\n",
        "unique_items = set(my_list)\n",
        "print(unique_items)  # Output: {1, 2, 3, 4, 5}"
      ],
      "metadata": {
        "id": "IE7u_UX-5vWK"
      },
      "execution_count": null,
      "outputs": []
    }
  ]
}